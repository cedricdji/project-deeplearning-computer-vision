{
 "cells": [
  {
   "cell_type": "markdown",
   "metadata": {},
   "source": [
    "# MODEL - IMAGE LOADING & NEURAL NETWORK"
   ]
  },
  {
   "cell_type": "code",
   "execution_count": 1,
   "metadata": {},
   "outputs": [
    {
     "name": "stderr",
     "output_type": "stream",
     "text": [
      "2024-09-22 14:38:49.868389: I external/local_xla/xla/tsl/cuda/cudart_stub.cc:32] Could not find cuda drivers on your machine, GPU will not be used.\n",
      "2024-09-22 14:38:49.873355: I external/local_xla/xla/tsl/cuda/cudart_stub.cc:32] Could not find cuda drivers on your machine, GPU will not be used.\n",
      "2024-09-22 14:38:49.885054: E external/local_xla/xla/stream_executor/cuda/cuda_fft.cc:485] Unable to register cuFFT factory: Attempting to register factory for plugin cuFFT when one has already been registered\n",
      "2024-09-22 14:38:49.907205: E external/local_xla/xla/stream_executor/cuda/cuda_dnn.cc:8454] Unable to register cuDNN factory: Attempting to register factory for plugin cuDNN when one has already been registered\n",
      "2024-09-22 14:38:49.913050: E external/local_xla/xla/stream_executor/cuda/cuda_blas.cc:1452] Unable to register cuBLAS factory: Attempting to register factory for plugin cuBLAS when one has already been registered\n",
      "2024-09-22 14:38:49.927006: I tensorflow/core/platform/cpu_feature_guard.cc:210] This TensorFlow binary is optimized to use available CPU instructions in performance-critical operations.\n",
      "To enable the following instructions: AVX2 FMA, in other operations, rebuild TensorFlow with the appropriate compiler flags.\n",
      "2024-09-22 14:38:50.913135: W tensorflow/compiler/tf2tensorrt/utils/py_utils.cc:38] TF-TRT Warning: Could not find TensorRT\n"
     ]
    }
   ],
   "source": [
    "#Import libraries\n",
    "import csv\n",
    "import os\n",
    "import io\n",
    "import cv2\n",
    "from PIL import Image\n",
    "import h5py\n",
    "import numpy as np\n",
    "import pandas as pd\n",
    "from matplotlib import pyplot as plt\n",
    "%matplotlib inline\n",
    "import seaborn as sns\n",
    "from sklearn import preprocessing\n",
    "from sklearn.model_selection import train_test_split\n",
    "import tensorflow as tf\n",
    "from tensorflow import keras"
   ]
  },
  {
   "cell_type": "code",
   "execution_count": 2,
   "metadata": {},
   "outputs": [],
   "source": [
    "#pip install Tensorflow"
   ]
  },
  {
   "cell_type": "code",
   "execution_count": 3,
   "metadata": {},
   "outputs": [],
   "source": [
    "#pip install numpy==1.26.4"
   ]
  },
  {
   "cell_type": "markdown",
   "metadata": {},
   "source": [
    "## 1) GENERAL FUNCTIONS"
   ]
  },
  {
   "cell_type": "code",
   "execution_count": 4,
   "metadata": {},
   "outputs": [],
   "source": [
    "#Function to show image\n",
    "def show_img(image):\n",
    "    plt.imshow(image, interpolation=None)\n",
    "    plt.grid(None)\n",
    "    plt.show()"
   ]
  },
  {
   "cell_type": "code",
   "execution_count": 5,
   "metadata": {},
   "outputs": [],
   "source": [
    "#Image cropping\n",
    "def crop_image(images_list, nbPix = 100):\n",
    "    output_images = []\n",
    "    for image in images_list:\n",
    "        #Height adjustments\n",
    "        h = len(image)\n",
    "        adj = len(image) - nbPix\n",
    "        h1 = round(adj / 2) #Top\n",
    "        h2 = h - (adj - h1) #Bottom\n",
    "\n",
    "        #Width adjustments\n",
    "        w = len(image[0])\n",
    "        w_adj = w - nbPix\n",
    "        w1 = round(w_adj / 2) #Left\n",
    "        w2 = w - (w_adj - w1) #Right\n",
    "\n",
    "        img = image[h1:h2,w1:w2]\n",
    "        output_images.append(img)\n",
    "        \n",
    "    return np.array(output_images)"
   ]
  },
  {
   "cell_type": "markdown",
   "metadata": {},
   "source": [
    "## 2) IMPORT DATA"
   ]
  },
  {
   "cell_type": "markdown",
   "metadata": {},
   "source": [
    "### 2.1 - Declare file paths"
   ]
  },
  {
   "cell_type": "code",
   "execution_count": 6,
   "metadata": {},
   "outputs": [],
   "source": [
    "#General file paths\n",
    "projectDir = os.getcwd() + \"/\"\n",
    "parentDir = os.path.abspath(os.path.join(projectDir, os.pardir)) + \"/\"\n",
    "dataPath = os.path.abspath(os.path.join(projectDir, os.pardir)) + \"/isic-2024-challenge/\"\n",
    "\n",
    "#Metadata file paths\n",
    "#metaPath = dataPath + \"train-metadata.csv\"\n",
    "metaPath = dataPath + \"sample-metadata.csv\"\n",
    "\n",
    "#Image file path\n",
    "#hdf5_file = dataPath + \"train-image.hdf5\"\n",
    "hdf5_file = dataPath + \"sample-image.hdf5\""
   ]
  },
  {
   "cell_type": "markdown",
   "metadata": {},
   "source": [
    "### 2.2 - Load metadata from csv"
   ]
  },
  {
   "cell_type": "code",
   "execution_count": 7,
   "metadata": {},
   "outputs": [
    {
     "name": "stdout",
     "output_type": "stream",
     "text": [
      "-- X_meta NA counts --\n",
      "isic_id                        0\n",
      "target                         0\n",
      "clin_size_long_diam_mm         0\n",
      "tbp_lv_areaMM2                 0\n",
      "tbp_lv_area_perim_ratio        0\n",
      "tbp_lv_eccentricity            0\n",
      "tbp_lv_minorAxisMM             0\n",
      "tbp_lv_color_std_mean          0\n",
      "tbp_lv_deltaLBnorm             0\n",
      "tbp_lv_radial_color_std_max    0\n",
      "dtype: int64\n"
     ]
    }
   ],
   "source": [
    "#Import metadata\n",
    "metadata = pd.read_csv(metaPath, sep=\",\")\n",
    "\n",
    "#METADATA: color and size features having no NAs\n",
    "metadata = metadata[[\"isic_id\",\n",
    "                     \"target\",\n",
    "                     \"clin_size_long_diam_mm\",\n",
    "                     \"tbp_lv_areaMM2\",\n",
    "                     \"tbp_lv_area_perim_ratio\",\n",
    "                     \"tbp_lv_eccentricity\",\n",
    "                     \"tbp_lv_minorAxisMM\",\n",
    "                     \"tbp_lv_color_std_mean\",\n",
    "                     \"tbp_lv_deltaLBnorm\",\n",
    "                     \"tbp_lv_radial_color_std_max\"]]\n",
    "\n",
    "#Verify that there are no NAs\n",
    "print(\"-- X_meta NA counts --\")\n",
    "print(metadata.isna().sum())"
   ]
  },
  {
   "cell_type": "code",
   "execution_count": 8,
   "metadata": {},
   "outputs": [],
   "source": [
    "#metadata[\"target_cheat\"] = metadata[\"target\"]"
   ]
  },
  {
   "cell_type": "markdown",
   "metadata": {},
   "source": [
    "### 2.3 - Clean data"
   ]
  },
  {
   "cell_type": "code",
   "execution_count": 9,
   "metadata": {},
   "outputs": [],
   "source": [
    "#Add code here\n"
   ]
  },
  {
   "cell_type": "markdown",
   "metadata": {},
   "source": [
    "### 2.4a - Train, Validate, Test Split"
   ]
  },
  {
   "cell_type": "code",
   "execution_count": 10,
   "metadata": {},
   "outputs": [],
   "source": [
    "#Function to perform train-validate or train-test-validate split on a list of isic_ids\n",
    "def ttv_split(isic_ids, test_frac=0.2, validate_frac=0.2, random_state=88, shuffle=True, stratify=None):\n",
    "    if test_frac < 0 or validate_frac < 0:\n",
    "        print(\"ERROR: Test of validate fraction is negative\")\n",
    "        return None\n",
    "    if test_frac > 1 or validate_frac > 1:\n",
    "        print(\"ERROR: Test of validate fraction is above 0\")\n",
    "        return None\n",
    "    if test_frac + validate_frac >= 1:\n",
    "        print(\"ERROR: Test and validate fractions sum to 1 or more.\")\n",
    "        return None\n",
    "\n",
    "    #Split training from the rest\n",
    "    test_size = test_frac + validate_frac\n",
    "    train, temp = train_test_split(isic_ids, test_size = test_size, random_state=random_state, shuffle=shuffle, stratify=stratify)\n",
    "    #Split test and validate\n",
    "    if test_frac == 0 or validate_frac == 0:\n",
    "        return train.tolist(), temp.tolist()\n",
    "    else:\n",
    "        test_size = test_frac / (test_frac + validate_frac)\n",
    "        test, validate = train_test_split(temp, test_size = test_size, random_state=random_state, shuffle=shuffle, stratify=stratify)\n",
    "        return train.tolist(), test.tolist(), validate.tolist()\n",
    "\n",
    "#Generate the splits of the isic_ids\n",
    "train_ids, test_ids, val_ids = ttv_split(metadata[\"isic_id\"])"
   ]
  },
  {
   "cell_type": "code",
   "execution_count": 11,
   "metadata": {},
   "outputs": [
    {
     "data": {
      "text/plain": [
       "'\\n#Split train-test-validate portions of metadata into X and y\\ndef Xy_split(metadata, ids):\\n    #Generate X (features without target)\\n    \\n    X = metadata[metadata[\"isic_id\"].isin(ids)]\\n    X = X.loc[:, ~X.columns.isin([\\'isic_id\\', \\'target\\'])]\\n    #Generate y\\n    y = metadata[metadata[\"isic_id\"].isin(ids)][\"target\"]\\n    return X, y\\n\\nX_train, y_train = Xy_split(metadata, train_ids)\\nX_test, y_test = Xy_split(metadata, test_ids)\\nX_validate, y_validate = Xy_split(metadata, val_ids)\\n'"
      ]
     },
     "execution_count": 11,
     "metadata": {},
     "output_type": "execute_result"
    }
   ],
   "source": [
    "\"\"\"\n",
    "#Split train-test-validate portions of metadata into X and y\n",
    "def Xy_split(metadata, ids):\n",
    "    #Generate X (features without target)\n",
    "    \n",
    "    X = metadata[metadata[\"isic_id\"].isin(ids)]\n",
    "    X = X.loc[:, ~X.columns.isin(['isic_id', 'target'])]\n",
    "    #Generate y\n",
    "    y = metadata[metadata[\"isic_id\"].isin(ids)][\"target\"]\n",
    "    return X, y\n",
    "\n",
    "X_train, y_train = Xy_split(metadata, train_ids)\n",
    "X_test, y_test = Xy_split(metadata, test_ids)\n",
    "X_validate, y_validate = Xy_split(metadata, val_ids)\n",
    "\"\"\""
   ]
  },
  {
   "cell_type": "markdown",
   "metadata": {},
   "source": [
    "### 2.4b - Data augmentation\n",
    "- Augment only the malignant data in the training set\n",
    "- Reformat all lists (train_ids, test_ids, val_ids) to be compatible: list of tuples"
   ]
  },
  {
   "cell_type": "code",
   "execution_count": 12,
   "metadata": {},
   "outputs": [],
   "source": [
    "#Make list of ids compatible with data augmentations\n",
    "#Base data takes a value of 0, meaning it should not be modified\n",
    "train_ids_mods = [(id, 0) for id in train_ids]\n",
    "test_ids_mods = [(id, 0) for id in test_ids]\n",
    "val_ids_mods = [(id, 0) for id in val_ids]"
   ]
  },
  {
   "cell_type": "code",
   "execution_count": 13,
   "metadata": {},
   "outputs": [
    {
     "name": "stdout",
     "output_type": "stream",
     "text": [
      "Number of positives in training data: 36\n"
     ]
    }
   ],
   "source": [
    "#Identify the malignant cases in the training data\n",
    "all_pos = metadata[metadata[\"target\"]==1][\"isic_id\"]\n",
    "pos_in_train = all_pos[all_pos.isin(train_ids)]\n",
    "print(\"Number of positives in training data:\", len(pos_in_train))"
   ]
  },
  {
   "cell_type": "code",
   "execution_count": 14,
   "metadata": {},
   "outputs": [
    {
     "data": {
      "text/plain": [
       "[('ISIC_1001603', 0),\n",
       " ('ISIC_1034966', 0),\n",
       " ('ISIC_0157834', 0.16064336838955484),\n",
       " ('ISIC_2346081', 0.16064336838955484),\n",
       " ('ISIC_3156688', 0.045879911743372026),\n",
       " ('ISIC_7037308', 0),\n",
       " ('ISIC_5475654', 0.16064336838955484),\n",
       " ('ISIC_2604412', 0.16064336838955484),\n",
       " ('ISIC_5475654', 0.045879911743372026),\n",
       " ('ISIC_2439617', 0),\n",
       " ('ISIC_9972877', 0),\n",
       " ('ISIC_6007750', 0),\n",
       " ('ISIC_3289176', 0),\n",
       " ('ISIC_7928246', 0),\n",
       " ('ISIC_0386460', 0),\n",
       " ('ISIC_0528190', 0.045879911743372026),\n",
       " ('ISIC_6665759', 0.045879911743372026),\n",
       " ('ISIC_6016458', 0),\n",
       " ('ISIC_3450877', 0),\n",
       " ('ISIC_2234813', 0),\n",
       " ('ISIC_7575093', 0.045879911743372026),\n",
       " ('ISIC_6928210', 0),\n",
       " ('ISIC_5595794', 0),\n",
       " ('ISIC_4114301', 0),\n",
       " ('ISIC_2023222', 0),\n",
       " ('ISIC_6016458', 0.16064336838955484),\n",
       " ('ISIC_9060519', 0.045879911743372026),\n",
       " ('ISIC_1805261', 0),\n",
       " ('ISIC_8857626', 0),\n",
       " ('ISIC_0386460', 0.16064336838955484),\n",
       " ('ISIC_7575093', 0),\n",
       " ('ISIC_0638180', 0),\n",
       " ('ISIC_9454701', 0),\n",
       " ('ISIC_5945837', 0),\n",
       " ('ISIC_6665759', 0.16064336838955484),\n",
       " ('ISIC_7318303', 0),\n",
       " ('ISIC_5078833', 0),\n",
       " ('ISIC_2023222', 0.16064336838955484),\n",
       " ('ISIC_3156688', 0),\n",
       " ('ISIC_1805261', 0.045879911743372026),\n",
       " ('ISIC_8952587', 0),\n",
       " ('ISIC_0386460', 0.045879911743372026),\n",
       " ('ISIC_4114301', 0.045879911743372026),\n",
       " ('ISIC_7797933', 0),\n",
       " ('ISIC_6255931', 0.045879911743372026),\n",
       " ('ISIC_6784337', 0.045879911743372026),\n",
       " ('ISIC_9454701', 0.16064336838955484),\n",
       " ('ISIC_8591808', 0),\n",
       " ('ISIC_9085828', 0),\n",
       " ('ISIC_0528190', 0.16064336838955484),\n",
       " ('ISIC_4824767', 0),\n",
       " ('ISIC_3368054', 0),\n",
       " ('ISIC_3450877', 0.045879911743372026),\n",
       " ('ISIC_0104229', 0.16064336838955484),\n",
       " ('ISIC_2031355', 0.16064336838955484),\n",
       " ('ISIC_7235721', 0.045879911743372026),\n",
       " ('ISIC_0682245', 0),\n",
       " ('ISIC_0157834', 0),\n",
       " ('ISIC_7235721', 0),\n",
       " ('ISIC_6148717', 0),\n",
       " ('ISIC_9060519', 0.16064336838955484),\n",
       " ('ISIC_1111537', 0.16064336838955484),\n",
       " ('ISIC_5609822', 0),\n",
       " ('ISIC_0157834', 0.045879911743372026),\n",
       " ('ISIC_9972877', 0.045879911743372026),\n",
       " ('ISIC_9084841', 0),\n",
       " ('ISIC_3450877', 0.16064336838955484),\n",
       " ('ISIC_1034966', 0.045879911743372026),\n",
       " ('ISIC_5350639', 0),\n",
       " ('ISIC_4218634', 0),\n",
       " ('ISIC_7748442', 0),\n",
       " ('ISIC_0104229', 0.045879911743372026),\n",
       " ('ISIC_7464445', 0),\n",
       " ('ISIC_3472364', 0),\n",
       " ('ISIC_1034966', 0.16064336838955484),\n",
       " ('ISIC_3985863', 0),\n",
       " ('ISIC_7748442', 0.16064336838955484),\n",
       " ('ISIC_2346081', 0.045879911743372026),\n",
       " ('ISIC_4883569', 0),\n",
       " ('ISIC_6269100', 0),\n",
       " ('ISIC_2439617', 0.16064336838955484),\n",
       " ('ISIC_7464445', 0.16064336838955484),\n",
       " ('ISIC_8355368', 0),\n",
       " ('ISIC_7928246', 0.16064336838955484),\n",
       " ('ISIC_9762220', 0),\n",
       " ('ISIC_3955107', 0.16064336838955484),\n",
       " ('ISIC_7655277', 0.045879911743372026),\n",
       " ('ISIC_7928246', 0.045879911743372026),\n",
       " ('ISIC_1805261', 0.16064336838955484),\n",
       " ('ISIC_6448076', 0),\n",
       " ('ISIC_7748442', 0.045879911743372026),\n",
       " ('ISIC_4567455', 0),\n",
       " ('ISIC_9762220', 0.16064336838955484),\n",
       " ('ISIC_4027733', 0.045879911743372026),\n",
       " ('ISIC_2023222', 0.045879911743372026),\n",
       " ('ISIC_5475654', 0),\n",
       " ('ISIC_1111537', 0.045879911743372026),\n",
       " ('ISIC_9972877', 0.16064336838955484),\n",
       " ('ISIC_8644072', 0),\n",
       " ('ISIC_9060519', 0),\n",
       " ('ISIC_3869741', 0),\n",
       " ('ISIC_7655277', 0.16064336838955484),\n",
       " ('ISIC_2604412', 0.045879911743372026),\n",
       " ('ISIC_3156688', 0.16064336838955484),\n",
       " ('ISIC_3175557', 0),\n",
       " ('ISIC_0528190', 0),\n",
       " ('ISIC_1111537', 0),\n",
       " ('ISIC_3955107', 0),\n",
       " ('ISIC_7905844', 0),\n",
       " ('ISIC_1528957', 0),\n",
       " ('ISIC_4027733', 0.16064336838955484),\n",
       " ('ISIC_2031355', 0.045879911743372026),\n",
       " ('ISIC_8954977', 0),\n",
       " ('ISIC_2439617', 0.045879911743372026),\n",
       " ('ISIC_2346081', 0),\n",
       " ('ISIC_5557065', 0),\n",
       " ('ISIC_3955107', 0.045879911743372026),\n",
       " ('ISIC_9454701', 0.045879911743372026),\n",
       " ('ISIC_2604412', 0),\n",
       " ('ISIC_2483649', 0),\n",
       " ('ISIC_6665759', 0),\n",
       " ('ISIC_7235721', 0.16064336838955484),\n",
       " ('ISIC_4766910', 0),\n",
       " ('ISIC_3516326', 0),\n",
       " ('ISIC_4027733', 0),\n",
       " ('ISIC_2401841', 0),\n",
       " ('ISIC_0638180', 0.045879911743372026),\n",
       " ('ISIC_0104229', 0),\n",
       " ('ISIC_4114301', 0.16064336838955484),\n",
       " ('ISIC_6269100', 0.045879911743372026),\n",
       " ('ISIC_6016458', 0.045879911743372026),\n",
       " ('ISIC_6255931', 0),\n",
       " ('ISIC_9762220', 0.045879911743372026),\n",
       " ('ISIC_5609822', 0.16064336838955484),\n",
       " ('ISIC_6255931', 0.16064336838955484),\n",
       " ('ISIC_5993301', 0),\n",
       " ('ISIC_7575093', 0.16064336838955484),\n",
       " ('ISIC_7692477', 0),\n",
       " ('ISIC_6784337', 0),\n",
       " ('ISIC_0638180', 0.16064336838955484),\n",
       " ('ISIC_8952587', 0.16064336838955484),\n",
       " ('ISIC_9007689', 0),\n",
       " ('ISIC_8952587', 0.045879911743372026),\n",
       " ('ISIC_2031355', 0),\n",
       " ('ISIC_8704966', 0),\n",
       " ('ISIC_6784337', 0.16064336838955484),\n",
       " ('ISIC_7464445', 0.045879911743372026),\n",
       " ('ISIC_5609822', 0.045879911743372026),\n",
       " ('ISIC_0367166', 0),\n",
       " ('ISIC_7655277', 0),\n",
       " ('ISIC_6269100', 0.16064336838955484)]"
      ]
     },
     "execution_count": 14,
     "metadata": {},
     "output_type": "execute_result"
    }
   ],
   "source": [
    "#Augment the training list\n",
    "#Duplicates of ids will each have a different number, indicating a specific augmentation to be used\n",
    "nb_of_augments = 2\n",
    "\n",
    "rng = np.random.default_rng()\n",
    "for i in range(nb_of_augments):\n",
    "    rand_nb = rng.random()\n",
    "    #Option 1: use random float between 0 and 1\n",
    "    train_ids_mods += [(id, rand_nb) for id in pos_in_train]\n",
    "    #Option 2: use integer\n",
    "    #train_ids_mods += [(id, nb_of_augments + 1) for id in pos_in_train]\n",
    "\n",
    "#Shuffle the list\n",
    "np.random.shuffle(train_ids_mods)\n",
    "train_ids_mods"
   ]
  },
  {
   "cell_type": "markdown",
   "metadata": {},
   "source": [
    "### 2.5 - Load images and create hybrid tensorflow dataset"
   ]
  },
  {
   "cell_type": "code",
   "execution_count": 15,
   "metadata": {},
   "outputs": [],
   "source": [
    "# GENERATOR FOR HDF5 AND METADATA\n",
    "\"\"\"\n",
    "file = filepath to the hdf5 file containing the image data\n",
    "metadata = the full metadata dataframe (col1 = \"isic_id\", col2 = \"target\")\n",
    "img_names = list of tuples, each containing the isic_id followed by a number, signifying:\n",
    "            * 0 when original data is to be used\n",
    "            * random number - data augmentation is to be applied\n",
    "imgSize = images are to be adjusted to this size (square) in pixels\n",
    "\"\"\"\n",
    "class hdf5_generator:\n",
    "    def __init__(self, file, metadata, img_names, imgSize):\n",
    "        self.file = file\n",
    "        self.metadata = metadata\n",
    "        self.img_names = img_names\n",
    "        self.imgSize = imgSize\n",
    "\n",
    "    def __call__(self):\n",
    "        with h5py.File(self.file, 'r') as h5file:\n",
    "            for img_name_tuple in self.img_names:\n",
    "                img_name, mod = img_name_tuple\n",
    "                try:\n",
    "                    # Load image data from HDF5\n",
    "                    img = np.array(Image.open(io.BytesIO(h5file[img_name][()])))\n",
    "                    \n",
    "                    # Resize the image\n",
    "                    img = tf.image.resize(img, [self.imgSize, self.imgSize])\n",
    "                    \n",
    "                    if mod != 0:\n",
    "                        # Data Augmentation \n",
    "                        img = tf.image.random_flip_left_right(img)\n",
    "                        img = tf.image.random_flip_up_down(img)\n",
    "                        img = tf.image.random_brightness(img, max_delta=0.2)\n",
    "\n",
    "                    # Standardize and return as TensorFlow constant\n",
    "                    img = tf.constant(img / 255, dtype=tf.float32)  # Standardize here\n",
    "\n",
    "                    #Retrieve corresponding metadata\n",
    "                    meta = self.metadata[self.metadata[\"isic_id\"] == img_name].iloc[:,2:]\n",
    "\n",
    "                    #Retrieve corresponding target\n",
    "                    target = self.metadata[self.metadata[\"isic_id\"] == img_name][\"target\"]\n",
    "                    target = np.reshape(target, (1, 1))\n",
    "                    \n",
    "                    yield (img, meta), target\n",
    "                    \n",
    "                except Exception as e:\n",
    "                    print(f\"Error loading image {img_name}: {e}\")\n",
    "                    # log the error to a file for later analysis\n",
    "                    with open('image_errors.log', 'a') as f:\n",
    "                        f.write(f\"Error loading image {img_name}: {e}\\n\")\n",
    "                    continue\n",
    "\n",
    "#Generate the dataset with batch size and prefetching\n",
    "def make_dataset(hdf5_file, metadata, img_names, imgSize=100, batch_size=32, shuffle=True):\n",
    "   \n",
    "    # Get the number of metadata features (isic_id and target are present, so subtract)\n",
    "    num_features = metadata.shape[-1] - 2\n",
    "    \n",
    "    # Generate image dataset\n",
    "    element_spec = ((tf.TensorSpec(shape=(imgSize, imgSize, 3), dtype=tf.float32),\n",
    "                 tf.TensorSpec(shape=(1, num_features), dtype=tf.float32)),\n",
    "                tf.TensorSpec(shape=(1, 1), dtype=tf.int32))\n",
    "    \n",
    "    img_dataset = tf.data.Dataset.from_generator(\n",
    "        hdf5_generator(hdf5_file, metadata, img_names, imgSize),\n",
    "        output_signature=element_spec\n",
    "    )\n",
    "\n",
    "    # Add shuffling, batching, and prefetching\n",
    "    if shuffle:\n",
    "        dataset = img_dataset.shuffle(buffer_size=min(len(img_names), 10000)).batch(batch_size).prefetch(tf.data.experimental.AUTOTUNE)\n",
    "    else:\n",
    "        dataset = img_dataset.batch(batch_size).prefetch(tf.data.experimental.AUTOTUNE)\n",
    "\n",
    "    return dataset"
   ]
  },
  {
   "cell_type": "code",
   "execution_count": 16,
   "metadata": {},
   "outputs": [],
   "source": [
    "#Make datasets\n",
    "train_dataset = make_dataset(hdf5_file, metadata, train_ids_mods)\n",
    "validate_dataset = make_dataset(hdf5_file, metadata, val_ids_mods, shuffle=False)\n",
    "test_dataset = make_dataset(hdf5_file, metadata, test_ids_mods, shuffle=False)"
   ]
  },
  {
   "cell_type": "code",
   "execution_count": 17,
   "metadata": {},
   "outputs": [
    {
     "data": {
      "text/plain": [
       "<_PrefetchDataset element_spec=((TensorSpec(shape=(None, 100, 100, 3), dtype=tf.float32, name=None), TensorSpec(shape=(None, 1, 8), dtype=tf.float32, name=None)), TensorSpec(shape=(None, 1, 1), dtype=tf.int32, name=None))>"
      ]
     },
     "execution_count": 17,
     "metadata": {},
     "output_type": "execute_result"
    }
   ],
   "source": [
    "train_dataset"
   ]
  },
  {
   "cell_type": "code",
   "execution_count": 18,
   "metadata": {},
   "outputs": [
    {
     "data": {
      "text/plain": [
       "<_PrefetchDataset element_spec=((TensorSpec(shape=(None, 100, 100, 3), dtype=tf.float32, name=None), TensorSpec(shape=(None, 1, 8), dtype=tf.float32, name=None)), TensorSpec(shape=(None, 1, 1), dtype=tf.int32, name=None))>"
      ]
     },
     "execution_count": 18,
     "metadata": {},
     "output_type": "execute_result"
    }
   ],
   "source": [
    "validate_dataset"
   ]
  },
  {
   "cell_type": "markdown",
   "metadata": {},
   "source": [
    "## 3) CNN MODEL"
   ]
  },
  {
   "cell_type": "markdown",
   "metadata": {},
   "source": [
    "### 3.1 - Model class"
   ]
  },
  {
   "cell_type": "code",
   "execution_count": 19,
   "metadata": {},
   "outputs": [],
   "source": [
    "#Simple CNN model using only images and target\n",
    "class CNN_model(tf.keras.Model):\n",
    "    def __init__(self, neurons = 8, activ = 'leaky_relu', img_size = 100, img_channels=3):\n",
    "        #Run the constructor of the parent class\n",
    "        super().__init__()\n",
    "\n",
    "        #Weight and bias initializers\n",
    "        kernel_initializer = tf.keras.initializers.RandomNormal(mean=0.0, stddev=0.05, seed=None)\n",
    "        bias_initializer = tf.keras.initializers.RandomUniform(minval=-0.05, maxval=0.05, seed=None)\n",
    "        \n",
    "        #Image size declaration\n",
    "        self.img_size = img_size\n",
    "        self.img_channels = img_channels\n",
    "\n",
    "        #Layers\n",
    "        self.conv1 = tf.keras.layers.Conv2D(filters=16, kernel_size=5, strides=(1, 1), activation='relu', padding='same', input_shape=(img_size, img_size, img_channels),\n",
    "                                            kernel_initializer=kernel_initializer, bias_initializer=bias_initializer)\n",
    "        self.pool1 = tf.keras.layers.MaxPool2D(pool_size=(2,2))\n",
    "        self.flatten = tf.keras.layers.Flatten()\n",
    "        self.dense1 = tf.keras.layers.Dense(neurons, activation = activ, kernel_initializer=kernel_initializer, bias_initializer=bias_initializer)\n",
    "        self.dense2 = tf.keras.layers.Dense(1, activation='sigmoid', kernel_initializer=kernel_initializer, bias_initializer=bias_initializer)\n",
    "\n",
    "    def call(self, inputs):\n",
    "        x_image, x_meta = inputs\n",
    "\n",
    "        # Convolutions\n",
    "        x1 = self.conv1(x_image)\n",
    "        x1 = self.pool1(x1)\n",
    "\n",
    "        # Flattening of images for input layer\n",
    "        x1 = self.flatten(x1)\n",
    "\n",
    "        # Hidden layers of neural network\n",
    "        x1 = self.dense1(x1)\n",
    "\n",
    "        # Output layer of neural network\n",
    "        output = self.dense2(x1)\n",
    "\n",
    "        return output\n",
    "\n",
    "#Metadata Neural Network\n",
    "class Meta_model(tf.keras.Model):\n",
    "    def __init__(self, neurons = 8, activ = 'tanh'):\n",
    "        #Run the constructor of the parent class\n",
    "        super().__init__()\n",
    "\n",
    "        #Weight and bias initializers\n",
    "        kernel_initializer = tf.keras.initializers.RandomNormal(mean=0.0, stddev=0.05, seed=None)\n",
    "        bias_initializer = tf.keras.initializers.RandomUniform(minval=-0.05, maxval=0.05, seed=None)\n",
    "\n",
    "        #Layers\n",
    "        self.dense1 = tf.keras.layers.Dense(neurons, activation = activ, kernel_initializer=kernel_initializer, bias_initializer=bias_initializer)\n",
    "        self.dense2 = tf.keras.layers.Dense(neurons, activation = activ, kernel_initializer=kernel_initializer, bias_initializer=bias_initializer)\n",
    "        self.dense3 = tf.keras.layers.Dense(1, activation='sigmoid', kernel_initializer=kernel_initializer, bias_initializer=bias_initializer)\n",
    "        self.dropout = tf.keras.layers.Dropout(0.25)\n",
    "\n",
    "    def call(self, inputs, training=False):\n",
    "        x_image, x_meta = inputs\n",
    "        x_all = tf.reshape(x_meta, (tf.shape(x_meta)[0], x_meta.shape[-1]))\n",
    "        # Neural Network\n",
    "        x_all = self.dense1(x_all)\n",
    "        x_all = self.dense2(x_all)\n",
    "        if training:\n",
    "            x_all = self.dropout(x_all, training=training)\n",
    "        output = self.dense3(x_all)\n",
    "        return output\n",
    "\n",
    "#Hybrid CNN model taking metadata\n",
    "class Hybrid_model(tf.keras.Model):\n",
    "    def __init__(self, neurons = 8, activ = 'leaky_relu', img_size = 100, img_channels = 3):\n",
    "        #Run the constructor of the parent class\n",
    "        super().__init__()\n",
    "\n",
    "        #Weight and bias initializers\n",
    "        kernel_initializer = tf.keras.initializers.RandomNormal(mean=0.0, stddev=0.05, seed=None)\n",
    "        bias_initializer = tf.keras.initializers.RandomUniform(minval=-0.05, maxval=0.05, seed=None)\n",
    "\n",
    "        #Image size declaration\n",
    "        self.img_size = img_size\n",
    "        self.img_channels = img_channels\n",
    "\n",
    "        #Layers\n",
    "        self.conv1 = tf.keras.layers.Conv2D(filters=32, kernel_size=5, strides=(1, 1), activation='relu', padding='same', input_shape=(img_size, img_size, img_channels),\n",
    "                                            kernel_initializer=kernel_initializer, bias_initializer=bias_initializer)\n",
    "        self.conv2 = tf.keras.layers.Conv2D(64, 5, activation='relu', kernel_initializer=kernel_initializer, bias_initializer=bias_initializer)\n",
    "        self.pool = tf.keras.layers.MaxPool2D(pool_size=(2,2))\n",
    "        self.flatten = tf.keras.layers.Flatten()\n",
    "        self.dense1 = tf.keras.layers.Dense(neurons, activation = activ, kernel_initializer=kernel_initializer, bias_initializer=bias_initializer)\n",
    "        self.dropout1 = tf.keras.layers.Dropout(0.10)\n",
    "        self.dense2 = tf.keras.layers.Dense(neurons, activation = activ, kernel_initializer=kernel_initializer, bias_initializer=bias_initializer)\n",
    "        self.dropout2 = tf.keras.layers.Dropout(0.10)\n",
    "        self.dense3 = tf.keras.layers.Dense(1, activation='sigmoid', kernel_initializer=kernel_initializer, bias_initializer=bias_initializer)\n",
    "        self.concatenate = keras.layers.Concatenate(axis=1)\n",
    "        \n",
    "    def call(self, inputs, training=False):\n",
    "        x_image, x_meta = inputs\n",
    "        # Convolutions\n",
    "        x = self.conv1(x_image)\n",
    "        x = self.pool(x)\n",
    "        x = self.conv2(x)\n",
    "        x = self.pool(x)\n",
    "        # Flattening of images and concatenation with other data\n",
    "        x = self.flatten(x)\n",
    "        # Reshape metadata to match dimensions\n",
    "        x_meta = tf.reshape(x_meta, (tf.shape(x_meta)[0], x_meta.shape[-1]))\n",
    "        x_all = self.concatenate([x, x_meta])\n",
    "        # Neural Network\n",
    "        x_all = self.dense1(x_all)\n",
    "        if training:\n",
    "            x_all = self.dropout1(x_all, training=training)\n",
    "        x_all = self.dense2(x_all)\n",
    "        if training:\n",
    "            x_all = self.dropout2(x_all, training=training)\n",
    "        output = self.dense3(x_all)\n",
    "        return output"
   ]
  },
  {
   "cell_type": "markdown",
   "metadata": {},
   "source": [
    "### 3.2 - Model compiling"
   ]
  },
  {
   "cell_type": "code",
   "execution_count": 20,
   "metadata": {},
   "outputs": [
    {
     "name": "stderr",
     "output_type": "stream",
     "text": [
      "/home/awieber/miniconda3/envs/ISIC24_skin_cancer/lib/python3.11/site-packages/keras/src/layers/convolutional/base_conv.py:107: UserWarning: Do not pass an `input_shape`/`input_dim` argument to a layer. When using Sequential models, prefer using an `Input(shape)` object as the first layer in the model instead.\n",
      "  super().__init__(activity_regularizer=activity_regularizer, **kwargs)\n"
     ]
    }
   ],
   "source": [
    "#Set seed\n",
    "tf.random.set_seed(71)\n",
    "\n",
    "#Initialize model\n",
    "#model = CNN_model(neurons=8, activ='tanh')\n",
    "model = Hybrid_model(neurons=36, activ='leaky_relu')\n",
    "#model = Meta_model(neurons=18, activ='tanh')\n",
    "\n",
    "#Define optimizer and loss function\n",
    "optimizer = tf.keras.optimizers.Adam(learning_rate=0.01)\n",
    "loss = tf.keras.losses.BinaryCrossentropy(from_logits=False,\n",
    "                                          label_smoothing=0.0,\n",
    "                                          axis=-1,\n",
    "                                          reduction='sum_over_batch_size',\n",
    "                                          name='binary_crossentropy')\n",
    "\n",
    "#Compile the model with loss, optimizer, and metrics\n",
    "model.compile(loss = loss,\n",
    "              optimizer = optimizer,\n",
    "              metrics = [\n",
    "                  tf.keras.metrics.BinaryAccuracy(),\n",
    "                  tf.keras.metrics.FalseNegatives(),\n",
    "                  tf.keras.metrics.FalsePositives(),\n",
    "                  tf.keras.metrics.TrueNegatives(),\n",
    "                  tf.keras.metrics.TruePositives()\n",
    "                  ]\n",
    ")"
   ]
  },
  {
   "cell_type": "code",
   "execution_count": 21,
   "metadata": {},
   "outputs": [
    {
     "name": "stdout",
     "output_type": "stream",
     "text": [
      "Image batch shape: (32, 100, 100, 3)\n",
      "Metadata batch shape: (32, 1, 8)\n",
      "Target batch shape: (32, 1, 1)\n"
     ]
    },
    {
     "name": "stderr",
     "output_type": "stream",
     "text": [
      "2024-09-22 14:38:52.966573: I tensorflow/core/framework/local_rendezvous.cc:404] Local rendezvous is aborting with status: OUT_OF_RANGE: End of sequence\n"
     ]
    },
    {
     "name": "stdout",
     "output_type": "stream",
     "text": [
      "Total number of batches in the dataset: 5\n"
     ]
    },
    {
     "name": "stderr",
     "output_type": "stream",
     "text": [
      "2024-09-22 14:38:53.786194: I tensorflow/core/framework/local_rendezvous.cc:404] Local rendezvous is aborting with status: OUT_OF_RANGE: End of sequence\n"
     ]
    }
   ],
   "source": [
    "# Take 1 batch from the dataset and check its content\n",
    "for batch in train_dataset.take(1):\n",
    "    (img_batch, meta_batch), target_batch = batch\n",
    "    \n",
    "    # Print the shapes of the individual components\n",
    "    print(f\"Image batch shape: {img_batch.shape}\")\n",
    "    print(f\"Metadata batch shape: {meta_batch.shape}\")\n",
    "    print(f\"Target batch shape: {target_batch.shape}\")\n",
    "\n",
    "# To count the total number of batches\n",
    "batch_count = 0\n",
    "for _ in train_dataset:\n",
    "    batch_count += 1\n",
    "\n",
    "print(f\"Total number of batches in the dataset: {batch_count}\")"
   ]
  },
  {
   "cell_type": "markdown",
   "metadata": {},
   "source": [
    "### 3.3 - Model fit"
   ]
  },
  {
   "cell_type": "code",
   "execution_count": 22,
   "metadata": {},
   "outputs": [
    {
     "name": "stdout",
     "output_type": "stream",
     "text": [
      "Epoch 1/25\n",
      "\u001b[1m5/5\u001b[0m \u001b[32m━━━━━━━━━━━━━━━━━━━━\u001b[0m\u001b[37m\u001b[0m \u001b[1m5s\u001b[0m 420ms/step - binary_accuracy: 0.4779 - false_negatives: 40.6667 - false_positives: 12.5000 - loss: 1.5964 - true_negatives: 16.3333 - true_positives: 34.1667 - val_binary_accuracy: 0.4815 - val_false_negatives: 0.0000e+00 - val_false_positives: 14.0000 - val_loss: 0.7483 - val_true_negatives: 0.0000e+00 - val_true_positives: 13.0000\n",
      "Epoch 2/25\n",
      "\u001b[1m5/5\u001b[0m \u001b[32m━━━━━━━━━━━━━━━━━━━━\u001b[0m\u001b[37m\u001b[0m \u001b[1m0s\u001b[0m 37ms/step - binary_accuracy: 0.0000e+00 - false_negatives: 0.0000e+00 - false_positives: 0.0000e+00 - loss: 0.0000e+00 - true_negatives: 0.0000e+00 - true_positives: 0.0000e+00 - val_binary_accuracy: 0.4815 - val_false_negatives: 0.0000e+00 - val_false_positives: 14.0000 - val_loss: 0.7483 - val_true_negatives: 0.0000e+00 - val_true_positives: 13.0000\n"
     ]
    },
    {
     "name": "stderr",
     "output_type": "stream",
     "text": [
      "/home/awieber/miniconda3/envs/ISIC24_skin_cancer/lib/python3.11/contextlib.py:158: UserWarning: Your input ran out of data; interrupting training. Make sure that your dataset or generator can generate at least `steps_per_epoch * epochs` batches. You may need to use the `.repeat()` function when building your dataset.\n",
      "  self.gen.throw(typ, value, traceback)\n",
      "2024-09-22 14:38:58.912312: I tensorflow/core/framework/local_rendezvous.cc:404] Local rendezvous is aborting with status: OUT_OF_RANGE: End of sequence\n",
      "\t [[{{node IteratorGetNext}}]]\n"
     ]
    },
    {
     "name": "stdout",
     "output_type": "stream",
     "text": [
      "Epoch 3/25\n",
      "\u001b[1m5/5\u001b[0m \u001b[32m━━━━━━━━━━━━━━━━━━━━\u001b[0m\u001b[37m\u001b[0m \u001b[1m2s\u001b[0m 291ms/step - binary_accuracy: 0.7015 - false_negatives: 0.0000e+00 - false_positives: 30.0000 - loss: 0.6123 - true_negatives: 0.0000e+00 - true_positives: 73.6667 - val_binary_accuracy: 0.4815 - val_false_negatives: 0.0000e+00 - val_false_positives: 14.0000 - val_loss: 0.7411 - val_true_negatives: 0.0000e+00 - val_true_positives: 13.0000\n",
      "Epoch 4/25\n",
      "\u001b[1m5/5\u001b[0m \u001b[32m━━━━━━━━━━━━━━━━━━━━\u001b[0m\u001b[37m\u001b[0m \u001b[1m0s\u001b[0m 35ms/step - binary_accuracy: 0.0000e+00 - false_negatives: 0.0000e+00 - false_positives: 0.0000e+00 - loss: 0.0000e+00 - true_negatives: 0.0000e+00 - true_positives: 0.0000e+00 - val_binary_accuracy: 0.4815 - val_false_negatives: 0.0000e+00 - val_false_positives: 14.0000 - val_loss: 0.7411 - val_true_negatives: 0.0000e+00 - val_true_positives: 13.0000\n",
      "Epoch 5/25\n"
     ]
    },
    {
     "name": "stderr",
     "output_type": "stream",
     "text": [
      "2024-09-22 14:39:01.543479: I tensorflow/core/framework/local_rendezvous.cc:404] Local rendezvous is aborting with status: OUT_OF_RANGE: End of sequence\n",
      "\t [[{{node IteratorGetNext}}]]\n"
     ]
    },
    {
     "name": "stdout",
     "output_type": "stream",
     "text": [
      "\u001b[1m5/5\u001b[0m \u001b[32m━━━━━━━━━━━━━━━━━━━━\u001b[0m\u001b[37m\u001b[0m \u001b[1m2s\u001b[0m 298ms/step - binary_accuracy: 0.6861 - false_negatives: 4.5000 - false_positives: 29.0000 - loss: 0.6323 - true_negatives: 0.0000e+00 - true_positives: 70.1667 - val_binary_accuracy: 0.4815 - val_false_negatives: 0.0000e+00 - val_false_positives: 14.0000 - val_loss: 0.7519 - val_true_negatives: 0.0000e+00 - val_true_positives: 13.0000\n",
      "Epoch 6/25\n",
      "\u001b[1m5/5\u001b[0m \u001b[32m━━━━━━━━━━━━━━━━━━━━\u001b[0m\u001b[37m\u001b[0m \u001b[1m0s\u001b[0m 37ms/step - binary_accuracy: 0.0000e+00 - false_negatives: 0.0000e+00 - false_positives: 0.0000e+00 - loss: 0.0000e+00 - true_negatives: 0.0000e+00 - true_positives: 0.0000e+00 - val_binary_accuracy: 0.4815 - val_false_negatives: 0.0000e+00 - val_false_positives: 14.0000 - val_loss: 0.7519 - val_true_negatives: 0.0000e+00 - val_true_positives: 13.0000\n",
      "Epoch 7/25\n",
      "\u001b[1m5/5\u001b[0m \u001b[32m━━━━━━━━━━━━━━━━━━━━\u001b[0m\u001b[37m\u001b[0m \u001b[1m2s\u001b[0m 301ms/step - binary_accuracy: 0.7032 - false_negatives: 3.0000 - false_positives: 28.3333 - loss: 0.6097 - true_negatives: 1.0000 - true_positives: 71.3333 - val_binary_accuracy: 0.4815 - val_false_negatives: 0.0000e+00 - val_false_positives: 14.0000 - val_loss: 0.7153 - val_true_negatives: 0.0000e+00 - val_true_positives: 13.0000\n",
      "Epoch 8/25\n",
      "\u001b[1m5/5\u001b[0m \u001b[32m━━━━━━━━━━━━━━━━━━━━\u001b[0m\u001b[37m\u001b[0m \u001b[1m0s\u001b[0m 40ms/step - binary_accuracy: 0.0000e+00 - false_negatives: 0.0000e+00 - false_positives: 0.0000e+00 - loss: 0.0000e+00 - true_negatives: 0.0000e+00 - true_positives: 0.0000e+00 - val_binary_accuracy: 0.4815 - val_false_negatives: 0.0000e+00 - val_false_positives: 14.0000 - val_loss: 0.7153 - val_true_negatives: 0.0000e+00 - val_true_positives: 13.0000\n",
      "Epoch 9/25\n",
      "\u001b[1m5/5\u001b[0m \u001b[32m━━━━━━━━━━━━━━━━━━━━\u001b[0m\u001b[37m\u001b[0m \u001b[1m3s\u001b[0m 371ms/step - binary_accuracy: 0.6993 - false_negatives: 0.0000e+00 - false_positives: 30.5000 - loss: 0.5684 - true_negatives: 0.0000e+00 - true_positives: 73.1667 - val_binary_accuracy: 0.4815 - val_false_negatives: 0.0000e+00 - val_false_positives: 14.0000 - val_loss: 0.7616 - val_true_negatives: 0.0000e+00 - val_true_positives: 13.0000\n",
      "Epoch 10/25\n"
     ]
    },
    {
     "name": "stderr",
     "output_type": "stream",
     "text": [
      "2024-09-22 14:39:09.226606: I tensorflow/core/framework/local_rendezvous.cc:404] Local rendezvous is aborting with status: OUT_OF_RANGE: End of sequence\n",
      "\t [[{{node IteratorGetNext}}]]\n"
     ]
    },
    {
     "name": "stdout",
     "output_type": "stream",
     "text": [
      "\u001b[1m5/5\u001b[0m \u001b[32m━━━━━━━━━━━━━━━━━━━━\u001b[0m\u001b[37m\u001b[0m \u001b[1m0s\u001b[0m 42ms/step - binary_accuracy: 0.0000e+00 - false_negatives: 0.0000e+00 - false_positives: 0.0000e+00 - loss: 0.0000e+00 - true_negatives: 0.0000e+00 - true_positives: 0.0000e+00 - val_binary_accuracy: 0.4815 - val_false_negatives: 0.0000e+00 - val_false_positives: 14.0000 - val_loss: 0.7616 - val_true_negatives: 0.0000e+00 - val_true_positives: 13.0000\n",
      "Epoch 11/25\n",
      "\u001b[1m5/5\u001b[0m \u001b[32m━━━━━━━━━━━━━━━━━━━━\u001b[0m\u001b[37m\u001b[0m \u001b[1m2s\u001b[0m 312ms/step - binary_accuracy: 0.7132 - false_negatives: 0.0000e+00 - false_positives: 29.8333 - loss: 0.5122 - true_negatives: 0.0000e+00 - true_positives: 73.8333 - val_binary_accuracy: 0.4815 - val_false_negatives: 0.0000e+00 - val_false_positives: 14.0000 - val_loss: 0.7540 - val_true_negatives: 0.0000e+00 - val_true_positives: 13.0000\n",
      "Epoch 12/25\n",
      "\u001b[1m5/5\u001b[0m \u001b[32m━━━━━━━━━━━━━━━━━━━━\u001b[0m\u001b[37m\u001b[0m \u001b[1m0s\u001b[0m 37ms/step - binary_accuracy: 0.0000e+00 - false_negatives: 0.0000e+00 - false_positives: 0.0000e+00 - loss: 0.0000e+00 - true_negatives: 0.0000e+00 - true_positives: 0.0000e+00 - val_binary_accuracy: 0.4815 - val_false_negatives: 0.0000e+00 - val_false_positives: 14.0000 - val_loss: 0.7540 - val_true_negatives: 0.0000e+00 - val_true_positives: 13.0000\n",
      "Epoch 13/25\n",
      "\u001b[1m5/5\u001b[0m \u001b[32m━━━━━━━━━━━━━━━━━━━━\u001b[0m\u001b[37m\u001b[0m \u001b[1m2s\u001b[0m 297ms/step - binary_accuracy: 0.7163 - false_negatives: 0.0000e+00 - false_positives: 30.1667 - loss: 0.5028 - true_negatives: 0.0000e+00 - true_positives: 73.5000 - val_binary_accuracy: 0.4815 - val_false_negatives: 0.0000e+00 - val_false_positives: 14.0000 - val_loss: 0.7740 - val_true_negatives: 0.0000e+00 - val_true_positives: 13.0000\n",
      "Epoch 14/25\n",
      "\u001b[1m5/5\u001b[0m \u001b[32m━━━━━━━━━━━━━━━━━━━━\u001b[0m\u001b[37m\u001b[0m \u001b[1m0s\u001b[0m 36ms/step - binary_accuracy: 0.0000e+00 - false_negatives: 0.0000e+00 - false_positives: 0.0000e+00 - loss: 0.0000e+00 - true_negatives: 0.0000e+00 - true_positives: 0.0000e+00 - val_binary_accuracy: 0.4815 - val_false_negatives: 0.0000e+00 - val_false_positives: 14.0000 - val_loss: 0.7740 - val_true_negatives: 0.0000e+00 - val_true_positives: 13.0000\n",
      "Epoch 15/25\n",
      "\u001b[1m5/5\u001b[0m \u001b[32m━━━━━━━━━━━━━━━━━━━━\u001b[0m\u001b[37m\u001b[0m \u001b[1m2s\u001b[0m 303ms/step - binary_accuracy: 0.7072 - false_negatives: 0.0000e+00 - false_positives: 29.5000 - loss: 0.4842 - true_negatives: 0.0000e+00 - true_positives: 74.1667 - val_binary_accuracy: 0.5556 - val_false_negatives: 10.0000 - val_false_positives: 2.0000 - val_loss: 0.6160 - val_true_negatives: 12.0000 - val_true_positives: 3.0000\n",
      "Epoch 16/25\n",
      "\u001b[1m5/5\u001b[0m \u001b[32m━━━━━━━━━━━━━━━━━━━━\u001b[0m\u001b[37m\u001b[0m \u001b[1m0s\u001b[0m 36ms/step - binary_accuracy: 0.0000e+00 - false_negatives: 0.0000e+00 - false_positives: 0.0000e+00 - loss: 0.0000e+00 - true_negatives: 0.0000e+00 - true_positives: 0.0000e+00 - val_binary_accuracy: 0.5556 - val_false_negatives: 10.0000 - val_false_positives: 2.0000 - val_loss: 0.6160 - val_true_negatives: 12.0000 - val_true_positives: 3.0000\n",
      "Epoch 17/25\n",
      "\u001b[1m5/5\u001b[0m \u001b[32m━━━━━━━━━━━━━━━━━━━━\u001b[0m\u001b[37m\u001b[0m \u001b[1m2s\u001b[0m 301ms/step - binary_accuracy: 0.7289 - false_negatives: 8.0000 - false_positives: 20.6667 - loss: 0.4920 - true_negatives: 9.0000 - true_positives: 66.0000 - val_binary_accuracy: 0.4815 - val_false_negatives: 0.0000e+00 - val_false_positives: 14.0000 - val_loss: 0.7171 - val_true_negatives: 0.0000e+00 - val_true_positives: 13.0000\n",
      "Epoch 18/25\n",
      "\u001b[1m5/5\u001b[0m \u001b[32m━━━━━━━━━━━━━━━━━━━━\u001b[0m\u001b[37m\u001b[0m \u001b[1m0s\u001b[0m 41ms/step - binary_accuracy: 0.0000e+00 - false_negatives: 0.0000e+00 - false_positives: 0.0000e+00 - loss: 0.0000e+00 - true_negatives: 0.0000e+00 - true_positives: 0.0000e+00 - val_binary_accuracy: 0.4815 - val_false_negatives: 0.0000e+00 - val_false_positives: 14.0000 - val_loss: 0.7171 - val_true_negatives: 0.0000e+00 - val_true_positives: 13.0000\n",
      "Epoch 19/25\n",
      "\u001b[1m5/5\u001b[0m \u001b[32m━━━━━━━━━━━━━━━━━━━━\u001b[0m\u001b[37m\u001b[0m \u001b[1m2s\u001b[0m 312ms/step - binary_accuracy: 0.7154 - false_negatives: 0.0000e+00 - false_positives: 29.6667 - loss: 0.4596 - true_negatives: 0.0000e+00 - true_positives: 74.0000 - val_binary_accuracy: 0.4815 - val_false_negatives: 0.0000e+00 - val_false_positives: 14.0000 - val_loss: 0.6959 - val_true_negatives: 0.0000e+00 - val_true_positives: 13.0000\n",
      "Epoch 20/25\n",
      "\u001b[1m5/5\u001b[0m \u001b[32m━━━━━━━━━━━━━━━━━━━━\u001b[0m\u001b[37m\u001b[0m \u001b[1m0s\u001b[0m 36ms/step - binary_accuracy: 0.0000e+00 - false_negatives: 0.0000e+00 - false_positives: 0.0000e+00 - loss: 0.0000e+00 - true_negatives: 0.0000e+00 - true_positives: 0.0000e+00 - val_binary_accuracy: 0.4815 - val_false_negatives: 0.0000e+00 - val_false_positives: 14.0000 - val_loss: 0.6959 - val_true_negatives: 0.0000e+00 - val_true_positives: 13.0000\n",
      "Epoch 21/25\n"
     ]
    },
    {
     "name": "stderr",
     "output_type": "stream",
     "text": [
      "2024-09-22 14:39:22.133354: I tensorflow/core/framework/local_rendezvous.cc:404] Local rendezvous is aborting with status: OUT_OF_RANGE: End of sequence\n",
      "\t [[{{node IteratorGetNext}}]]\n"
     ]
    },
    {
     "name": "stdout",
     "output_type": "stream",
     "text": [
      "\u001b[1m5/5\u001b[0m \u001b[32m━━━━━━━━━━━━━━━━━━━━\u001b[0m\u001b[37m\u001b[0m \u001b[1m2s\u001b[0m 292ms/step - binary_accuracy: 0.7297 - false_negatives: 0.0000e+00 - false_positives: 28.0000 - loss: 0.4689 - true_negatives: 0.0000e+00 - true_positives: 75.6667 - val_binary_accuracy: 0.4815 - val_false_negatives: 0.0000e+00 - val_false_positives: 14.0000 - val_loss: 0.6627 - val_true_negatives: 0.0000e+00 - val_true_positives: 13.0000\n",
      "Epoch 22/25\n",
      "\u001b[1m5/5\u001b[0m \u001b[32m━━━━━━━━━━━━━━━━━━━━\u001b[0m\u001b[37m\u001b[0m \u001b[1m0s\u001b[0m 36ms/step - binary_accuracy: 0.0000e+00 - false_negatives: 0.0000e+00 - false_positives: 0.0000e+00 - loss: 0.0000e+00 - true_negatives: 0.0000e+00 - true_positives: 0.0000e+00 - val_binary_accuracy: 0.4815 - val_false_negatives: 0.0000e+00 - val_false_positives: 14.0000 - val_loss: 0.6627 - val_true_negatives: 0.0000e+00 - val_true_positives: 13.0000\n",
      "Epoch 23/25\n",
      "\u001b[1m5/5\u001b[0m \u001b[32m━━━━━━━━━━━━━━━━━━━━\u001b[0m\u001b[37m\u001b[0m \u001b[1m2s\u001b[0m 302ms/step - binary_accuracy: 0.7040 - false_negatives: 1.0000 - false_positives: 30.3333 - loss: 0.4665 - true_negatives: 0.0000e+00 - true_positives: 72.3333 - val_binary_accuracy: 0.4444 - val_false_negatives: 1.0000 - val_false_positives: 14.0000 - val_loss: 0.6494 - val_true_negatives: 0.0000e+00 - val_true_positives: 12.0000\n",
      "Epoch 24/25\n",
      "\u001b[1m5/5\u001b[0m \u001b[32m━━━━━━━━━━━━━━━━━━━━\u001b[0m\u001b[37m\u001b[0m \u001b[1m0s\u001b[0m 36ms/step - binary_accuracy: 0.0000e+00 - false_negatives: 0.0000e+00 - false_positives: 0.0000e+00 - loss: 0.0000e+00 - true_negatives: 0.0000e+00 - true_positives: 0.0000e+00 - val_binary_accuracy: 0.4444 - val_false_negatives: 1.0000 - val_false_positives: 14.0000 - val_loss: 0.6494 - val_true_negatives: 0.0000e+00 - val_true_positives: 12.0000\n",
      "Epoch 25/25\n",
      "\u001b[1m5/5\u001b[0m \u001b[32m━━━━━━━━━━━━━━━━━━━━\u001b[0m\u001b[37m\u001b[0m \u001b[1m2s\u001b[0m 311ms/step - binary_accuracy: 0.7091 - false_negatives: 3.8333 - false_positives: 27.8333 - loss: 0.4631 - true_negatives: 0.0000e+00 - true_positives: 72.0000 - val_binary_accuracy: 0.4444 - val_false_negatives: 1.0000 - val_false_positives: 14.0000 - val_loss: 0.6824 - val_true_negatives: 0.0000e+00 - val_true_positives: 12.0000\n"
     ]
    }
   ],
   "source": [
    "mod = model.fit(train_dataset, epochs=25, validation_data=validate_dataset, steps_per_epoch=batch_count)"
   ]
  },
  {
   "cell_type": "code",
   "execution_count": 23,
   "metadata": {},
   "outputs": [
    {
     "data": {
      "text/plain": [
       "[<KerasVariable shape=(5, 5, 3, 32), dtype=float32, path=hybrid_model/conv2d/kernel>,\n",
       " <KerasVariable shape=(32,), dtype=float32, path=hybrid_model/conv2d/bias>,\n",
       " <KerasVariable shape=(5, 5, 32, 64), dtype=float32, path=hybrid_model/conv2d_1/kernel>,\n",
       " <KerasVariable shape=(64,), dtype=float32, path=hybrid_model/conv2d_1/bias>,\n",
       " <KerasVariable shape=(33864, 36), dtype=float32, path=hybrid_model/dense/kernel>,\n",
       " <KerasVariable shape=(36,), dtype=float32, path=hybrid_model/dense/bias>,\n",
       " <KerasVariable shape=(36, 36), dtype=float32, path=hybrid_model/dense_1/kernel>,\n",
       " <KerasVariable shape=(36,), dtype=float32, path=hybrid_model/dense_1/bias>,\n",
       " <KerasVariable shape=(36, 1), dtype=float32, path=hybrid_model/dense_2/kernel>,\n",
       " <KerasVariable shape=(1,), dtype=float32, path=hybrid_model/dense_2/bias>]"
      ]
     },
     "execution_count": 23,
     "metadata": {},
     "output_type": "execute_result"
    }
   ],
   "source": [
    "model.weights"
   ]
  },
  {
   "cell_type": "code",
   "execution_count": 24,
   "metadata": {},
   "outputs": [
    {
     "data": {
      "text/plain": [
       "{'binary_accuracy': [0.4701986610889435,\n",
       "  0.0,\n",
       "  0.7152317762374878,\n",
       "  0.0,\n",
       "  0.6754966974258423,\n",
       "  0.0,\n",
       "  0.7019867300987244,\n",
       "  0.0,\n",
       "  0.7152317762374878,\n",
       "  0.0,\n",
       "  0.7152317762374878,\n",
       "  0.0,\n",
       "  0.7152317762374878,\n",
       "  0.0,\n",
       "  0.7152317762374878,\n",
       "  0.0,\n",
       "  0.7218543291091919,\n",
       "  0.0,\n",
       "  0.7152317762374878,\n",
       "  0.0,\n",
       "  0.7152317762374878,\n",
       "  0.0,\n",
       "  0.7019867300987244,\n",
       "  0.0,\n",
       "  0.6754966974258423],\n",
       " 'false_negatives': [60.0,\n",
       "  0.0,\n",
       "  0.0,\n",
       "  0.0,\n",
       "  6.0,\n",
       "  0.0,\n",
       "  3.0,\n",
       "  0.0,\n",
       "  0.0,\n",
       "  0.0,\n",
       "  0.0,\n",
       "  0.0,\n",
       "  0.0,\n",
       "  0.0,\n",
       "  0.0,\n",
       "  0.0,\n",
       "  8.0,\n",
       "  0.0,\n",
       "  0.0,\n",
       "  0.0,\n",
       "  0.0,\n",
       "  0.0,\n",
       "  2.0,\n",
       "  0.0,\n",
       "  6.0],\n",
       " 'false_positives': [20.0,\n",
       "  0.0,\n",
       "  43.0,\n",
       "  0.0,\n",
       "  43.0,\n",
       "  0.0,\n",
       "  42.0,\n",
       "  0.0,\n",
       "  43.0,\n",
       "  0.0,\n",
       "  43.0,\n",
       "  0.0,\n",
       "  43.0,\n",
       "  0.0,\n",
       "  43.0,\n",
       "  0.0,\n",
       "  34.0,\n",
       "  0.0,\n",
       "  43.0,\n",
       "  0.0,\n",
       "  43.0,\n",
       "  0.0,\n",
       "  43.0,\n",
       "  0.0,\n",
       "  43.0],\n",
       " 'loss': [1.5296927690505981,\n",
       "  0.0,\n",
       "  0.6100923418998718,\n",
       "  0.0,\n",
       "  0.6461170315742493,\n",
       "  0.0,\n",
       "  0.6105096340179443,\n",
       "  0.0,\n",
       "  0.5502839088439941,\n",
       "  0.0,\n",
       "  0.4969693124294281,\n",
       "  0.0,\n",
       "  0.4965618848800659,\n",
       "  0.0,\n",
       "  0.47498664259910583,\n",
       "  0.0,\n",
       "  0.488014817237854,\n",
       "  0.0,\n",
       "  0.45919764041900635,\n",
       "  0.0,\n",
       "  0.48475757241249084,\n",
       "  0.0,\n",
       "  0.4697950780391693,\n",
       "  0.0,\n",
       "  0.4559893012046814],\n",
       " 'true_negatives': [23.0,\n",
       "  0.0,\n",
       "  0.0,\n",
       "  0.0,\n",
       "  0.0,\n",
       "  0.0,\n",
       "  1.0,\n",
       "  0.0,\n",
       "  0.0,\n",
       "  0.0,\n",
       "  0.0,\n",
       "  0.0,\n",
       "  0.0,\n",
       "  0.0,\n",
       "  0.0,\n",
       "  0.0,\n",
       "  9.0,\n",
       "  0.0,\n",
       "  0.0,\n",
       "  0.0,\n",
       "  0.0,\n",
       "  0.0,\n",
       "  0.0,\n",
       "  0.0,\n",
       "  0.0],\n",
       " 'true_positives': [48.0,\n",
       "  0.0,\n",
       "  108.0,\n",
       "  0.0,\n",
       "  102.0,\n",
       "  0.0,\n",
       "  105.0,\n",
       "  0.0,\n",
       "  108.0,\n",
       "  0.0,\n",
       "  108.0,\n",
       "  0.0,\n",
       "  108.0,\n",
       "  0.0,\n",
       "  108.0,\n",
       "  0.0,\n",
       "  100.0,\n",
       "  0.0,\n",
       "  108.0,\n",
       "  0.0,\n",
       "  108.0,\n",
       "  0.0,\n",
       "  106.0,\n",
       "  0.0,\n",
       "  102.0],\n",
       " 'val_binary_accuracy': [0.48148149251937866,\n",
       "  0.48148149251937866,\n",
       "  0.48148149251937866,\n",
       "  0.48148149251937866,\n",
       "  0.48148149251937866,\n",
       "  0.48148149251937866,\n",
       "  0.48148149251937866,\n",
       "  0.48148149251937866,\n",
       "  0.48148149251937866,\n",
       "  0.48148149251937866,\n",
       "  0.48148149251937866,\n",
       "  0.48148149251937866,\n",
       "  0.48148149251937866,\n",
       "  0.48148149251937866,\n",
       "  0.5555555820465088,\n",
       "  0.5555555820465088,\n",
       "  0.48148149251937866,\n",
       "  0.48148149251937866,\n",
       "  0.48148149251937866,\n",
       "  0.48148149251937866,\n",
       "  0.48148149251937866,\n",
       "  0.48148149251937866,\n",
       "  0.4444444477558136,\n",
       "  0.4444444477558136,\n",
       "  0.4444444477558136],\n",
       " 'val_false_negatives': [0.0,\n",
       "  0.0,\n",
       "  0.0,\n",
       "  0.0,\n",
       "  0.0,\n",
       "  0.0,\n",
       "  0.0,\n",
       "  0.0,\n",
       "  0.0,\n",
       "  0.0,\n",
       "  0.0,\n",
       "  0.0,\n",
       "  0.0,\n",
       "  0.0,\n",
       "  10.0,\n",
       "  10.0,\n",
       "  0.0,\n",
       "  0.0,\n",
       "  0.0,\n",
       "  0.0,\n",
       "  0.0,\n",
       "  0.0,\n",
       "  1.0,\n",
       "  1.0,\n",
       "  1.0],\n",
       " 'val_false_positives': [14.0,\n",
       "  14.0,\n",
       "  14.0,\n",
       "  14.0,\n",
       "  14.0,\n",
       "  14.0,\n",
       "  14.0,\n",
       "  14.0,\n",
       "  14.0,\n",
       "  14.0,\n",
       "  14.0,\n",
       "  14.0,\n",
       "  14.0,\n",
       "  14.0,\n",
       "  2.0,\n",
       "  2.0,\n",
       "  14.0,\n",
       "  14.0,\n",
       "  14.0,\n",
       "  14.0,\n",
       "  14.0,\n",
       "  14.0,\n",
       "  14.0,\n",
       "  14.0,\n",
       "  14.0],\n",
       " 'val_loss': [0.7482957243919373,\n",
       "  0.7482957243919373,\n",
       "  0.7411354780197144,\n",
       "  0.7411354780197144,\n",
       "  0.7518660426139832,\n",
       "  0.7518660426139832,\n",
       "  0.7153217792510986,\n",
       "  0.7153217792510986,\n",
       "  0.7615809440612793,\n",
       "  0.7615809440612793,\n",
       "  0.753965437412262,\n",
       "  0.753965437412262,\n",
       "  0.7739817500114441,\n",
       "  0.7739817500114441,\n",
       "  0.6160096526145935,\n",
       "  0.6160096526145935,\n",
       "  0.7171091437339783,\n",
       "  0.7171091437339783,\n",
       "  0.6958679556846619,\n",
       "  0.6958679556846619,\n",
       "  0.6627366542816162,\n",
       "  0.6627366542816162,\n",
       "  0.6493680477142334,\n",
       "  0.6493680477142334,\n",
       "  0.6823689341545105],\n",
       " 'val_true_negatives': [0.0,\n",
       "  0.0,\n",
       "  0.0,\n",
       "  0.0,\n",
       "  0.0,\n",
       "  0.0,\n",
       "  0.0,\n",
       "  0.0,\n",
       "  0.0,\n",
       "  0.0,\n",
       "  0.0,\n",
       "  0.0,\n",
       "  0.0,\n",
       "  0.0,\n",
       "  12.0,\n",
       "  12.0,\n",
       "  0.0,\n",
       "  0.0,\n",
       "  0.0,\n",
       "  0.0,\n",
       "  0.0,\n",
       "  0.0,\n",
       "  0.0,\n",
       "  0.0,\n",
       "  0.0],\n",
       " 'val_true_positives': [13.0,\n",
       "  13.0,\n",
       "  13.0,\n",
       "  13.0,\n",
       "  13.0,\n",
       "  13.0,\n",
       "  13.0,\n",
       "  13.0,\n",
       "  13.0,\n",
       "  13.0,\n",
       "  13.0,\n",
       "  13.0,\n",
       "  13.0,\n",
       "  13.0,\n",
       "  3.0,\n",
       "  3.0,\n",
       "  13.0,\n",
       "  13.0,\n",
       "  13.0,\n",
       "  13.0,\n",
       "  13.0,\n",
       "  13.0,\n",
       "  12.0,\n",
       "  12.0,\n",
       "  12.0]}"
      ]
     },
     "execution_count": 24,
     "metadata": {},
     "output_type": "execute_result"
    }
   ],
   "source": [
    "mod.history"
   ]
  },
  {
   "cell_type": "markdown",
   "metadata": {},
   "source": [
    "**BATCHES**"
   ]
  },
  {
   "cell_type": "code",
   "execution_count": 25,
   "metadata": {},
   "outputs": [
    {
     "name": "stdout",
     "output_type": "stream",
     "text": [
      "Batch 1:\n",
      "  Image Batch Shape: (32, 100, 100, 3)\n",
      "  Metadata Batch Shape: (32, 1, 8)\n",
      "  Target Batch Shape: (32, 1, 1)\n",
      "Batch 2:\n",
      "  Image Batch Shape: (32, 100, 100, 3)\n",
      "  Metadata Batch Shape: (32, 1, 8)\n",
      "  Target Batch Shape: (32, 1, 1)\n",
      "Batch 3:\n",
      "  Image Batch Shape: (32, 100, 100, 3)\n",
      "  Metadata Batch Shape: (32, 1, 8)\n",
      "  Target Batch Shape: (32, 1, 1)\n",
      "Batch 4:\n",
      "  Image Batch Shape: (32, 100, 100, 3)\n",
      "  Metadata Batch Shape: (32, 1, 8)\n",
      "  Target Batch Shape: (32, 1, 1)\n",
      "Batch 5:\n",
      "  Image Batch Shape: (23, 100, 100, 3)\n",
      "  Metadata Batch Shape: (23, 1, 8)\n",
      "  Target Batch Shape: (23, 1, 1)\n"
     ]
    }
   ],
   "source": [
    "# Iterate through all batches in the dataset and print their shapes\n",
    "for i, batch in enumerate(train_dataset):\n",
    "    (img_batch, meta_batch), target_batch = batch\n",
    "    \n",
    "    # Print the shapes of the current batch\n",
    "    print(f\"Batch {i+1}:\")\n",
    "    print(\"  Image Batch Shape:\", img_batch.shape)\n",
    "    print(\"  Metadata Batch Shape:\", meta_batch.shape)\n",
    "    print(\"  Target Batch Shape:\", target_batch.shape)"
   ]
  },
  {
   "cell_type": "markdown",
   "metadata": {},
   "source": [
    "### 3.4 - Predict Test Data"
   ]
  },
  {
   "cell_type": "code",
   "execution_count": 26,
   "metadata": {},
   "outputs": [
    {
     "name": "stdout",
     "output_type": "stream",
     "text": [
      "\u001b[1m1/1\u001b[0m \u001b[32m━━━━━━━━━━━━━━━━━━━━\u001b[0m\u001b[37m\u001b[0m \u001b[1m0s\u001b[0m 217ms/step\n",
      "Shape of prediction data: (26, 1)\n",
      "Loss on test data: 0.4230769230769231\n"
     ]
    }
   ],
   "source": [
    "predictions = model.predict(test_dataset)\n",
    "y_pred = [round(i) for i  in predictions.flatten()]\n",
    "y_test = np.concatenate([y for x, y in test_dataset], axis=0).flatten()\n",
    "loss = sum(abs(y_test - y_pred))/len(y_pred)\n",
    "print(\"Shape of prediction data:\", predictions.shape)\n",
    "print(\"Loss on test data:\", loss)"
   ]
  },
  {
   "cell_type": "code",
   "execution_count": 27,
   "metadata": {},
   "outputs": [
    {
     "data": {
      "text/plain": [
       "[1, 1, 0, 1, 1, 1, 1, 1, 1, 1, 1, 1, 1, 0, 1, 1, 1, 1, 1, 1, 1, 1, 1, 1, 1, 1]"
      ]
     },
     "execution_count": 27,
     "metadata": {},
     "output_type": "execute_result"
    }
   ],
   "source": [
    "y_pred"
   ]
  },
  {
   "cell_type": "code",
   "execution_count": 28,
   "metadata": {},
   "outputs": [
    {
     "data": {
      "text/plain": [
       "array([0, 0, 1, 1, 1, 1, 1, 0, 0, 0, 0, 1, 0, 1, 1, 1, 1, 1, 0, 1, 0, 1,\n",
       "       1, 1, 1, 1], dtype=int32)"
      ]
     },
     "execution_count": 28,
     "metadata": {},
     "output_type": "execute_result"
    }
   ],
   "source": [
    "y_test"
   ]
  }
 ],
 "metadata": {
  "kernelspec": {
   "display_name": "ISIC24_skin_cancer",
   "language": "python",
   "name": "python3"
  },
  "language_info": {
   "codemirror_mode": {
    "name": "ipython",
    "version": 3
   },
   "file_extension": ".py",
   "mimetype": "text/x-python",
   "name": "python",
   "nbconvert_exporter": "python",
   "pygments_lexer": "ipython3",
   "version": "3.11.9"
  }
 },
 "nbformat": 4,
 "nbformat_minor": 2
}
