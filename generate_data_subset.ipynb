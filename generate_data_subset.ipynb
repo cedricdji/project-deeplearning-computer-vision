{
 "cells": [
  {
   "cell_type": "markdown",
   "metadata": {},
   "source": [
    "# GENERATION OF A SUBSET OF INPUT DATA"
   ]
  },
  {
   "cell_type": "code",
   "execution_count": 1,
   "metadata": {},
   "outputs": [],
   "source": [
    "#Import libraries\n",
    "import random\n",
    "import csv\n",
    "import os\n",
    "import io\n",
    "import cv2\n",
    "from PIL import Image\n",
    "import h5py\n",
    "import numpy as np\n",
    "import pandas as pd\n",
    "from matplotlib import pyplot as plt\n",
    "%matplotlib inline"
   ]
  },
  {
   "cell_type": "markdown",
   "metadata": {},
   "source": [
    "## 1. Declare file paths"
   ]
  },
  {
   "cell_type": "code",
   "execution_count": 2,
   "metadata": {},
   "outputs": [],
   "source": [
    "#IMPORT FILES\n",
    "#Directory for data files - FULL DATA\n",
    "dataPath = \"/Users/awieber/Documents/Data Projects/Deep Learning Cancerous Lesions/isic-2024-challenge/\" #slash required at end\n",
    "#Metadata file paths\n",
    "metaPath = dataPath + \"cleaned_metadata_VF.csv\"\n",
    "#Image input file path\n",
    "hdf5_file_in = dataPath + \"train-image.hdf5\"\n",
    "\n",
    "#SAVE FILES\n",
    "#Directory for saved files\n",
    "savePath = \"/Users/awieber/Documents/Data Projects/Deep Learning Cancerous Lesions/saves/\" #slash required at end\n",
    "#Image output file path\n",
    "hdf5_file_out = dataPath + \"sample-image.hdf5\"\n",
    "#CSV output file path\n",
    "csv_file_out = dataPath + \"sample-metadata.csv\""
   ]
  },
  {
   "cell_type": "markdown",
   "metadata": {},
   "source": [
    "## 2. Hyperparameters"
   ]
  },
  {
   "cell_type": "code",
   "execution_count": 3,
   "metadata": {},
   "outputs": [],
   "source": [
    "#Select number of samples of malignant and benign samples (max values indicated)\n",
    "n_samples_malignant = 300 # Max = 393\n",
    "n_sample_benign = 3000 # Max = 400666"
   ]
  },
  {
   "cell_type": "markdown",
   "metadata": {},
   "source": [
    "## 3. Retrieve a list of all isic_ids for malignant and benign cases"
   ]
  },
  {
   "cell_type": "code",
   "execution_count": 4,
   "metadata": {},
   "outputs": [],
   "source": [
    "#Import metadata (corresponds to the objects in the HDF5 file)\n",
    "metadata = pd.read_csv(metaPath, sep=\",\")"
   ]
  },
  {
   "cell_type": "code",
   "execution_count": null,
   "metadata": {},
   "outputs": [],
   "source": [
    "#Split into malignant and benign\n",
    "meta_malign = metadata[metadata[\"target\"]==1]\n",
    "meta_benign = metadata[metadata[\"target\"]==0]\n",
    "\n",
    "isic_ids_malign = meta_malign[\"isic_id\"].reset_index(drop=True)\n",
    "isic_ids_benign = meta_benign[\"isic_id\"].reset_index(drop=True)\n",
    "\n",
    "print(\"Number of malignant ids:\", len(isic_ids_malign))\n",
    "print(\"Number of benign ids:\", len(isic_ids_benign))"
   ]
  },
  {
   "cell_type": "code",
   "execution_count": null,
   "metadata": {},
   "outputs": [],
   "source": [
    "'''\n",
    "n=66\n",
    "random.seed(125)\n",
    "subset_indices = range(len(isic_ids_malign)-1) #Ordered list of the indices in isic_ids\n",
    "subset_indices = random.sample(subset_indices, n) #Sample of size n taken from the indices\n",
    "subset = isic_ids_malign[subset_indices] #isic_ids associated to these indices\n",
    "'''"
   ]
  },
  {
   "cell_type": "markdown",
   "metadata": {},
   "source": [
    "## 4. Take a random sample of isic_ids from malignant and benign lists"
   ]
  },
  {
   "cell_type": "code",
   "execution_count": 7,
   "metadata": {},
   "outputs": [],
   "source": [
    "#Generate subset of isic ids to export to hdf5 file\n",
    "random.seed(125)\n",
    "\n",
    "#n = number of samples to take\n",
    "def generate_isic_list(isic_ids, n=66):\n",
    "    subset_indices = range(len(isic_ids)-1) #Ordered list of the indices in isic_ids\n",
    "    subset_indices = random.sample(subset_indices, n) #Sample of size n taken from the indices\n",
    "    return  isic_ids[subset_indices].tolist() #isic_ids associated to these indices\n",
    "\n",
    "\n",
    "isic_ids_mal_subset = generate_isic_list(isic_ids_malign, n_samples_malignant)\n",
    "isic_ids_ben_subset = generate_isic_list(isic_ids_benign, n_sample_benign)\n",
    "isic_ids_subset = isic_ids_mal_subset + isic_ids_ben_subset"
   ]
  },
  {
   "cell_type": "markdown",
   "metadata": {},
   "source": [
    "## 5. Import the random samples from the hdf5 file"
   ]
  },
  {
   "cell_type": "code",
   "execution_count": 8,
   "metadata": {},
   "outputs": [],
   "source": [
    "#Retrieve raw data from inital HDF5 file and save in a list containing\n",
    "#the tuples (isic_id, data)\n",
    "bytes_imgs = []\n",
    "with h5py.File(hdf5_file_in, 'r') as h5file:\n",
    "    for isic_id in isic_ids_subset:\n",
    "        bytes_imgs.append((isic_id, h5file[isic_id][()]))"
   ]
  },
  {
   "cell_type": "markdown",
   "metadata": {},
   "source": [
    "## 6. Export the sampled images to a new hdf5 file"
   ]
  },
  {
   "cell_type": "code",
   "execution_count": 9,
   "metadata": {},
   "outputs": [],
   "source": [
    "#Export the file for each image one by one\n",
    "with h5py.File(hdf5_file_out, 'w') as h5file:\n",
    "    for item in bytes_imgs:\n",
    "        id = item[0]\n",
    "        img = item[1]\n",
    "        h5file.create_dataset(id, data=img)"
   ]
  },
  {
   "cell_type": "markdown",
   "metadata": {},
   "source": [
    "## 7. Export the associated metadata to a new csv file"
   ]
  },
  {
   "cell_type": "code",
   "execution_count": 10,
   "metadata": {},
   "outputs": [],
   "source": [
    "#Export the target data in csv form\n",
    "meta = metadata[metadata[\"isic_id\"].isin(isic_ids_subset)]"
   ]
  },
  {
   "cell_type": "code",
   "execution_count": 11,
   "metadata": {},
   "outputs": [],
   "source": [
    "meta.to_csv(csv_file_out, index=False)"
   ]
  },
  {
   "cell_type": "markdown",
   "metadata": {},
   "source": [
    "## 8. Confirm that data was properly copied"
   ]
  },
  {
   "cell_type": "code",
   "execution_count": 12,
   "metadata": {},
   "outputs": [],
   "source": [
    "#Function to show image\n",
    "def show_img(image):\n",
    "    plt.imshow(image, interpolation=None)\n",
    "    plt.grid(None)\n",
    "    plt.show()"
   ]
  },
  {
   "cell_type": "code",
   "execution_count": 13,
   "metadata": {},
   "outputs": [],
   "source": [
    "#Image chosen for comparison\n",
    "isic_id = isic_ids_subset[0]"
   ]
  },
  {
   "cell_type": "code",
   "execution_count": null,
   "metadata": {},
   "outputs": [],
   "source": [
    "#Display of image using INPUT data file\n",
    "f = h5py.File(hdf5_file_in, 'r')\n",
    "image = np.array(\n",
    "        Image.open(io.BytesIO(f[isic_id][()]))\n",
    "        )\n",
    "show_img(image)\n",
    "print(\"Native form:\", f[isic_id][()])"
   ]
  },
  {
   "cell_type": "code",
   "execution_count": null,
   "metadata": {},
   "outputs": [],
   "source": [
    "#Display of image using OUTPUT data file\n",
    "f = h5py.File(hdf5_file_out, 'r')\n",
    "image = np.array(\n",
    "        Image.open(io.BytesIO(f[isic_id][()]))\n",
    "        )\n",
    "show_img(image)\n",
    "print(\"Native form:\", f[isic_id][()])"
   ]
  }
 ],
 "metadata": {
  "kernelspec": {
   "display_name": "deep_cancer",
   "language": "python",
   "name": "python3"
  },
  "language_info": {
   "codemirror_mode": {
    "name": "ipython",
    "version": 3
   },
   "file_extension": ".py",
   "mimetype": "text/x-python",
   "name": "python",
   "nbconvert_exporter": "python",
   "pygments_lexer": "ipython3",
   "version": "3.11.9"
  }
 },
 "nbformat": 4,
 "nbformat_minor": 2
}
